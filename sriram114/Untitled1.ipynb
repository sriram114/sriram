{
 "cells": [
  {
   "cell_type": "raw",
   "id": "463e67fd",
   "metadata": {},
   "source": []
  },
  {
   "cell_type": "code",
   "execution_count": null,
   "id": "9c0825cb",
   "metadata": {},
   "outputs": [],
   "source": []
  },
  {
   "cell_type": "code",
   "execution_count": 1,
   "id": "749456f3",
   "metadata": {},
   "outputs": [],
   "source": [
    "a=10"
   ]
  },
  {
   "cell_type": "code",
   "execution_count": 2,
   "id": "290daf15",
   "metadata": {},
   "outputs": [
    {
     "ename": "SyntaxError",
     "evalue": "invalid decimal literal (3749117783.py, line 1)",
     "output_type": "error",
     "traceback": [
      "\u001b[1;36m  Cell \u001b[1;32mIn [2], line 1\u001b[1;36m\u001b[0m\n\u001b[1;33m    1b=10\u001b[0m\n\u001b[1;37m    ^\u001b[0m\n\u001b[1;31mSyntaxError\u001b[0m\u001b[1;31m:\u001b[0m invalid decimal literal\n"
     ]
    }
   ],
   "source": [
    "1b=10"
   ]
  },
  {
   "cell_type": "code",
   "execution_count": null,
   "id": "f44bf205",
   "metadata": {},
   "outputs": [],
   "source": [
    "Aa=10"
   ]
  },
  {
   "cell_type": "code",
   "execution_count": null,
   "id": "82de61c8",
   "metadata": {},
   "outputs": [],
   "source": [
    "a_=10"
   ]
  },
  {
   "cell_type": "code",
   "execution_count": null,
   "id": "2879ea82",
   "metadata": {
    "scrolled": true
   },
   "outputs": [],
   "source": [
    "a+a=10 "
   ]
  },
  {
   "cell_type": "code",
   "execution_count": null,
   "id": "788e44c6",
   "metadata": {},
   "outputs": [],
   "source": [
    "a=10"
   ]
  },
  {
   "cell_type": "markdown",
   "id": "bf5a03fa",
   "metadata": {},
   "source": []
  },
  {
   "cell_type": "raw",
   "id": "8d4f0550",
   "metadata": {},
   "source": []
  },
  {
   "cell_type": "code",
   "execution_count": 3,
   "id": "d1b935c0",
   "metadata": {},
   "outputs": [],
   "source": [
    "var={1:\"sriram\",2:\"data analytics\",3:\"mca\"}"
   ]
  },
  {
   "cell_type": "code",
   "execution_count": 4,
   "id": "99766c36",
   "metadata": {},
   "outputs": [
    {
     "name": "stdout",
     "output_type": "stream",
     "text": [
      "{1: 'sriram', 2: 'data analytics', 3: 'mca'}\n"
     ]
    }
   ],
   "source": [
    "print(var)"
   ]
  },
  {
   "cell_type": "code",
   "execution_count": 5,
   "id": "66754a62",
   "metadata": {},
   "outputs": [],
   "source": [
    "var2={2:\"dictionary\",2:\"mca\"}"
   ]
  },
  {
   "cell_type": "code",
   "execution_count": 6,
   "id": "5c1da46b",
   "metadata": {},
   "outputs": [
    {
     "data": {
      "text/plain": [
       "dict"
      ]
     },
     "execution_count": 6,
     "metadata": {},
     "output_type": "execute_result"
    }
   ],
   "source": [
    "type(var2)"
   ]
  },
  {
   "cell_type": "code",
   "execution_count": 7,
   "id": "8a72f3b1",
   "metadata": {},
   "outputs": [],
   "source": [
    "var3={1:\"name\",2:\"sriram\"}"
   ]
  },
  {
   "cell_type": "code",
   "execution_count": 8,
   "id": "9288041d",
   "metadata": {},
   "outputs": [
    {
     "data": {
      "text/plain": [
       "dict"
      ]
     },
     "execution_count": 8,
     "metadata": {},
     "output_type": "execute_result"
    }
   ],
   "source": [
    "type(var3)"
   ]
  },
  {
   "cell_type": "markdown",
   "id": "033b5850",
   "metadata": {},
   "source": [
    "set"
   ]
  },
  {
   "cell_type": "code",
   "execution_count": 9,
   "id": "aef66576",
   "metadata": {},
   "outputs": [],
   "source": [
    "var4={\"sriram\",\"madhan\",1,2,3}"
   ]
  },
  {
   "cell_type": "code",
   "execution_count": 10,
   "id": "e5043ae8",
   "metadata": {},
   "outputs": [
    {
     "data": {
      "text/plain": [
       "set"
      ]
     },
     "execution_count": 10,
     "metadata": {},
     "output_type": "execute_result"
    }
   ],
   "source": [
    "type(var4)"
   ]
  },
  {
   "cell_type": "code",
   "execution_count": 11,
   "id": "84983528",
   "metadata": {},
   "outputs": [
    {
     "data": {
      "text/plain": [
       "{1, 2, 3, 'madhan', 'sriram'}"
      ]
     },
     "execution_count": 11,
     "metadata": {},
     "output_type": "execute_result"
    }
   ],
   "source": [
    "var4"
   ]
  },
  {
   "cell_type": "code",
   "execution_count": null,
   "id": "02b849ad",
   "metadata": {},
   "outputs": [],
   "source": [
    "timenow=input(\"enter time\")\n",
    "notif={1:\"this morning\",2:\"this is evening\"}\n",
    "if int(timenow)<6:\n",
    "    print(f\"is up time up {notif[1]}\")\n",
    "elif int(timenow)==12:\n",
    "    print(notif[2])\n",
    "elif int (timenow)>12:\n",
    "    print(notif[3])"
   ]
  },
  {
   "cell_type": "code",
   "execution_count": null,
   "id": "56423634",
   "metadata": {},
   "outputs": [],
   "source": [
    "fare_per_km=2\n",
    "for dist in range(1,26):\n",
    "    if dist >2:\n",
    "        total_fare=dist*2\n",
    "        print(f\"your total fare for(dist)km is (total_fare)\")\n",
    "    else:\n",
    "            print(f\"your total for 1km is 2\")"
   ]
  },
  {
   "cell_type": "code",
   "execution_count": null,
   "id": "6a04f904",
   "metadata": {},
   "outputs": [],
   "source": [
    "TCS=int(input(\"enter total seat capacity:\"))\n",
    "counter=1\n",
    "while counter<TCS/2:\n",
    "    print(f\"your journey is not confrimed\")\n",
    "    print(f\"only{counter}tickets booked\")\n",
    "    counter+=1\n",
    "print(\"50% of the ticket filled in the journey\")\n",
    "    "
   ]
  },
  {
   "cell_type": "code",
   "execution_count": null,
   "id": "03e8894d",
   "metadata": {},
   "outputs": [],
   "source": [
    "limit=int(input(\"enter limit\"))\n",
    "count=0\n",
    "a=5\n",
    "b=4\n",
    "while count<=limit:\n",
    "    print(a)\n",
    "    print(b)\n",
    "    c=a+b\n",
    "    print(c)\n",
    "    count+=5\n",
    "    a=b\n",
    "    b=c\n",
    "\n"
   ]
  },
  {
   "cell_type": "code",
   "execution_count": null,
   "id": "77f184cc",
   "metadata": {},
   "outputs": [],
   "source": [
    "def fibnac(limit): \n",
    "count=0\n",
    "a=5\n",
    "b=4\n",
    "while count<=limit:\n",
    "    print(a)\n",
    "    print(b)\n",
    "    c=a+b\n",
    "    print(c)\n",
    "    count+=5\n",
    "    a=b\n",
    "    b=c\n"
   ]
  },
  {
   "cell_type": "code",
   "execution_count": null,
   "id": "2c400279",
   "metadata": {},
   "outputs": [],
   "source": [
    "def addition(a,b):\n",
    "    c=a+b\n",
    "    print(c)"
   ]
  },
  {
   "cell_type": "code",
   "execution_count": null,
   "id": "c28ed0f7",
   "metadata": {},
   "outputs": [],
   "source": []
  },
  {
   "cell_type": "code",
   "execution_count": null,
   "id": "8e6b6546",
   "metadata": {},
   "outputs": [],
   "source": []
  }
 ],
 "metadata": {
  "kernelspec": {
   "display_name": "Python 3 (ipykernel)",
   "language": "python",
   "name": "python3"
  },
  "language_info": {
   "codemirror_mode": {
    "name": "ipython",
    "version": 3
   },
   "file_extension": ".py",
   "mimetype": "text/x-python",
   "name": "python",
   "nbconvert_exporter": "python",
   "pygments_lexer": "ipython3",
   "version": "3.10.8"
  }
 },
 "nbformat": 4,
 "nbformat_minor": 5
}
