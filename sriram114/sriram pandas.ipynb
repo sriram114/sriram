{
 "cells": [
  {
   "cell_type": "code",
   "execution_count": 1,
   "id": "8035b37e",
   "metadata": {},
   "outputs": [],
   "source": [
    "import pandas as pd"
   ]
  },
  {
   "cell_type": "code",
   "execution_count": 2,
   "id": "26fa025a",
   "metadata": {
    "scrolled": true
   },
   "outputs": [
    {
     "name": "stdout",
     "output_type": "stream",
     "text": [
      "Requirement already satisfied: pandas in c:\\users\\admin\\anaconda3\\envs\\sriram\\lib\\site-packages (1.5.2)\n",
      "Requirement already satisfied: numpy>=1.21.0 in c:\\users\\admin\\anaconda3\\envs\\sriram\\lib\\site-packages (from pandas) (1.23.5)\n",
      "Requirement already satisfied: pytz>=2020.1 in c:\\users\\admin\\anaconda3\\envs\\sriram\\lib\\site-packages (from pandas) (2022.6)\n",
      "Requirement already satisfied: python-dateutil>=2.8.1 in c:\\users\\admin\\anaconda3\\envs\\sriram\\lib\\site-packages (from pandas) (2.8.2)\n",
      "Requirement already satisfied: six>=1.5 in c:\\users\\admin\\anaconda3\\envs\\sriram\\lib\\site-packages (from python-dateutil>=2.8.1->pandas) (1.16.0)\n",
      "Note: you may need to restart the kernel to use updated packages.\n"
     ]
    }
   ],
   "source": [
    "pip install pandas"
   ]
  },
  {
   "cell_type": "code",
   "execution_count": 3,
   "id": "e9ed3008",
   "metadata": {},
   "outputs": [
    {
     "data": {
      "text/plain": [
       "'1.5.2'"
      ]
     },
     "execution_count": 3,
     "metadata": {},
     "output_type": "execute_result"
    }
   ],
   "source": [
    "pd.__version__"
   ]
  },
  {
   "cell_type": "code",
   "execution_count": 4,
   "id": "6968e0ae",
   "metadata": {},
   "outputs": [],
   "source": [
    "a1=pd.Series([2,3,4],index=[0,1,2])"
   ]
  },
  {
   "cell_type": "code",
   "execution_count": 5,
   "id": "bff1fe8a",
   "metadata": {},
   "outputs": [
    {
     "name": "stdout",
     "output_type": "stream",
     "text": [
      "0    2\n",
      "1    3\n",
      "2    4\n",
      "dtype: int64\n"
     ]
    }
   ],
   "source": [
    "print(a1)"
   ]
  },
  {
   "cell_type": "code",
   "execution_count": 6,
   "id": "488fbacc",
   "metadata": {},
   "outputs": [],
   "source": [
    "season={\"rainy\":{1:'nov',2:'dec',3:'jan',4:'feb'},\"dry\":{1:'mar',2:'apr',3:'may',4:'jun'}}"
   ]
  },
  {
   "cell_type": "code",
   "execution_count": 7,
   "id": "4f148728",
   "metadata": {},
   "outputs": [],
   "source": [
    "d=pd.DataFrame(season,columns=[\"rainy\",\"dry\"])"
   ]
  },
  {
   "cell_type": "code",
   "execution_count": 8,
   "id": "14f60fc3",
   "metadata": {},
   "outputs": [
    {
     "name": "stdout",
     "output_type": "stream",
     "text": [
      "  rainy  dry\n",
      "1   nov  mar\n",
      "2   dec  apr\n",
      "3   jan  may\n",
      "4   feb  jun\n"
     ]
    }
   ],
   "source": [
    "print(d)"
   ]
  },
  {
   "cell_type": "code",
   "execution_count": 13,
   "id": "f0a0d042",
   "metadata": {},
   "outputs": [],
   "source": [
    "import numpy as np"
   ]
  },
  {
   "cell_type": "code",
   "execution_count": 14,
   "id": "9442a27f",
   "metadata": {},
   "outputs": [],
   "source": [
    "a=pd.DataFrame(np.random.randint(0,300,size=(20,4)),columns=list(('abcd')))"
   ]
  },
  {
   "cell_type": "code",
   "execution_count": 11,
   "id": "215b093a",
   "metadata": {},
   "outputs": [
    {
     "name": "stdout",
     "output_type": "stream",
     "text": [
      "      a    b    c    d\n",
      "0   129  194  100   92\n",
      "1   274  164   41  236\n",
      "2     6    5  252   98\n",
      "3   284  252   30  122\n",
      "4    88  167   83  207\n",
      "5   221  297   83   37\n",
      "6   274  144  199  135\n",
      "7   215  226  103  231\n",
      "8   102  200   52    8\n",
      "9     0   77  258   13\n",
      "10  135  210   25  211\n",
      "11   11  183  121   14\n",
      "12  231  142  297  249\n",
      "13   19  255   68  261\n",
      "14  244  184  269   40\n",
      "15  140  283  214  284\n",
      "16  240  260  266   26\n",
      "17  299  266  258   51\n",
      "18  106  193  189  136\n",
      "19   15  255  152  263\n"
     ]
    }
   ],
   "source": [
    "print(a)"
   ]
  },
  {
   "cell_type": "code",
   "execution_count": 18,
   "id": "0598fc8c",
   "metadata": {},
   "outputs": [],
   "source": [
    "a.to_csv('C:/Users/Public/Documents/sriram.csv')"
   ]
  },
  {
   "cell_type": "code",
   "execution_count": 19,
   "id": "0538802f",
   "metadata": {},
   "outputs": [],
   "source": [
    "a=pd.read_csv('C:/Users/Public/Documents/sriram.csv')"
   ]
  },
  {
   "cell_type": "code",
   "execution_count": 20,
   "id": "66172d4e",
   "metadata": {},
   "outputs": [
    {
     "name": "stdout",
     "output_type": "stream",
     "text": [
      "    Unnamed: 0    a    b    c    d\n",
      "0            0   85  290   14  193\n",
      "1            1  196  219   77  235\n",
      "2            2   33   75  266  297\n",
      "3            3   88  173  293  178\n",
      "4            4   47  211    6  240\n",
      "5            5  246   33   34  131\n",
      "6            6  234  168  186   22\n",
      "7            7  295  164  258  228\n",
      "8            8  139  118  152  178\n",
      "9            9  185  297  144  220\n",
      "10          10   97  242  225  274\n",
      "11          11  291  153  210  135\n",
      "12          12  222  275  246  235\n",
      "13          13   66  243  226  178\n",
      "14          14  134  241    3  104\n",
      "15          15   60  280   94  120\n",
      "16          16   81  168  218   62\n",
      "17          17  112  154   61   54\n",
      "18          18  172   29  286  159\n",
      "19          19  126  286  180  183\n"
     ]
    }
   ],
   "source": [
    "print(a)"
   ]
  },
  {
   "cell_type": "code",
   "execution_count": 22,
   "id": "b6cbe666",
   "metadata": {},
   "outputs": [
    {
     "data": {
      "text/plain": [
       "(20, 5)"
      ]
     },
     "execution_count": 22,
     "metadata": {},
     "output_type": "execute_result"
    }
   ],
   "source": [
    "a.shape"
   ]
  },
  {
   "cell_type": "code",
   "execution_count": 23,
   "id": "5b063024",
   "metadata": {},
   "outputs": [
    {
     "name": "stdout",
     "output_type": "stream",
     "text": [
      "<class 'pandas.core.frame.DataFrame'>\n",
      "Int64Index: 4 entries, 1 to 4\n",
      "Data columns (total 2 columns):\n",
      " #   Column  Non-Null Count  Dtype \n",
      "---  ------  --------------  ----- \n",
      " 0   rainy   4 non-null      object\n",
      " 1   dry     4 non-null      object\n",
      "dtypes: object(2)\n",
      "memory usage: 96.0+ bytes\n"
     ]
    }
   ],
   "source": [
    "d.info()"
   ]
  },
  {
   "cell_type": "code",
   "execution_count": null,
   "id": "405df469",
   "metadata": {},
   "outputs": [],
   "source": []
  },
  {
   "cell_type": "code",
   "execution_count": null,
   "id": "f1329dd1",
   "metadata": {},
   "outputs": [],
   "source": []
  },
  {
   "cell_type": "code",
   "execution_count": null,
   "id": "9aa6c81c",
   "metadata": {},
   "outputs": [],
   "source": []
  }
 ],
 "metadata": {
  "kernelspec": {
   "display_name": "Python 3 (ipykernel)",
   "language": "python",
   "name": "python3"
  },
  "language_info": {
   "codemirror_mode": {
    "name": "ipython",
    "version": 3
   },
   "file_extension": ".py",
   "mimetype": "text/x-python",
   "name": "python",
   "nbconvert_exporter": "python",
   "pygments_lexer": "ipython3",
   "version": "3.10.8"
  }
 },
 "nbformat": 4,
 "nbformat_minor": 5
}
